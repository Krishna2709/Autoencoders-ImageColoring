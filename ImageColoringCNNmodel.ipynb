{
 "cells": [
  {
   "cell_type": "markdown",
   "id": "bdd528e8",
   "metadata": {},
   "source": [
    "### 1. Import required libraries"
   ]
  },
  {
   "cell_type": "code",
   "execution_count": null,
   "id": "474682e8",
   "metadata": {},
   "outputs": [],
   "source": [
    "import os\n",
    "\n",
    "from utils import preprocess_data, color_image\n",
    "\n",
    "import tensorflow as tf\n",
    "from tensorflow.keras.layers import Conv2D, UpSampling2D\n",
    "from tensorflow.keras.models import Sequential\n",
    "from tensorflow.keras.preprocessing.image import ImageDataGenerator\n",
    "\n",
    "import mlflow\n",
    "import mlflow.tensorflow\n",
    "\n",
    "import matplotlib.pyplot as plt\n",
    "%matplotlib inline\n",
    "\n",
    "import warnings\n",
    "warnings.filterwarnings(\"ignore\")"
   ]
  },
  {
   "cell_type": "markdown",
   "id": "7a77d0c4",
   "metadata": {},
   "source": [
    "### 2. Configure MLflow instance"
   ]
  },
  {
   "cell_type": "code",
   "execution_count": null,
   "id": "1b991d85",
   "metadata": {},
   "outputs": [],
   "source": [
    "# MLflow Configuration\n",
    "mlflow.set_tracking_uri(\"sqlite:///mlflow.db\")\n",
    "mlflow.set_experiment('autoencoders-image-coloring')\n",
    "\n",
    "mlflow.start_run()\n",
    "mlflow.set_tag('model', 'basic_cnn')\n",
    "\n",
    "run = mlflow.active_run()\n",
    "print(\"run_id: {}; status: {}\".format(run.info.run_id, run.info.status))\n",
    "\n",
    "# Autologging the Model data\n",
    "mlflow.tensorflow.autolog(every_n_iter=5)"
   ]
  },
  {
   "cell_type": "markdown",
   "id": "bfd683c6",
   "metadata": {},
   "source": [
    "### 3. Loading the dataset(color images)"
   ]
  },
  {
   "cell_type": "code",
   "execution_count": null,
   "id": "fb89fce7",
   "metadata": {
    "scrolled": true
   },
   "outputs": [],
   "source": [
    "# Configurations\n",
    "path = \"<path_to_color_images>\"\n",
    "IMG_WIDTH, IMG_HEIGHT = 256, 256\n",
    "\n",
    "#Normalize images - divide by 255\n",
    "train_datagen = ImageDataGenerator(rescale=1./255)\n",
    "\n",
    "#Resize images, if needed\n",
    "train = train_datagen.flow_from_directory(path, \n",
    "                                          target_size=(IMG_WIDTH, IMG_HEIGHT), \n",
    "                                          batch_size=340, \n",
    "                                          class_mode=None)"
   ]
  },
  {
   "cell_type": "markdown",
   "id": "0ddf8fe7",
   "metadata": {},
   "source": [
    "### 4. Data Preprocessing"
   ]
  },
  {
   "cell_type": "code",
   "execution_count": null,
   "id": "ec404947",
   "metadata": {},
   "outputs": [],
   "source": [
    "# Convert from RGB to Lab\n",
    "X, Y = preprocess_data(train)\n",
    "\n",
    "print(X.shape)\n",
    "print(Y.shape)"
   ]
  },
  {
   "cell_type": "markdown",
   "id": "94ca1d3c",
   "metadata": {},
   "source": [
    "### 5. Convolutional Neural Network model"
   ]
  },
  {
   "cell_type": "code",
   "execution_count": null,
   "id": "d16b6c01",
   "metadata": {
    "scrolled": false
   },
   "outputs": [],
   "source": [
    "model = Sequential()\n",
    "\n",
    "#Encoder\n",
    "model.add(Conv2D(64, (3, 3), activation='relu', padding='same', strides=2, input_shape=(IMG_WIDTH, IMG_HEIGHT, 1)))\n",
    "model.add(Conv2D(128, (3, 3), activation='relu', padding='same'))\n",
    "model.add(Conv2D(128, (3,3), activation='relu', padding='same', strides=2))\n",
    "model.add(Conv2D(256, (3,3), activation='relu', padding='same'))\n",
    "model.add(Conv2D(256, (3,3), activation='relu', padding='same', strides=2))\n",
    "model.add(Conv2D(512, (3,3), activation='relu', padding='same'))\n",
    "model.add(Conv2D(512, (3,3), activation='relu', padding='same'))\n",
    "model.add(Conv2D(256, (3,3), activation='relu', padding='same'))\n",
    "\n",
    "# Decoder\n",
    "model.add(Conv2D(128, (3,3), activation='relu', padding='same'))\n",
    "model.add(UpSampling2D((2, 2)))\n",
    "model.add(Conv2D(64, (3,3), activation='relu', padding='same'))\n",
    "model.add(UpSampling2D((2, 2)))\n",
    "model.add(Conv2D(32, (3,3), activation='relu', padding='same'))\n",
    "model.add(Conv2D(16, (3,3), activation='relu', padding='same'))\n",
    "model.add(Conv2D(2, (3, 3), activation='tanh', padding='same'))\n",
    "model.add(UpSampling2D((2, 2)))\n",
    "\n",
    "model.summary()"
   ]
  },
  {
   "cell_type": "markdown",
   "id": "b8981740",
   "metadata": {},
   "source": [
    "### 6. Model's configuration"
   ]
  },
  {
   "cell_type": "code",
   "execution_count": null,
   "id": "bb33f4a5",
   "metadata": {},
   "outputs": [],
   "source": [
    "# Optimizer\n",
    "opt = tf.keras.optimizers.RMSprop()\n",
    "\n",
    "# Loss Function\n",
    "loss = 'mse'\n",
    "\n",
    "#  Compiling the model\n",
    "model.compile(optimizer=opt, loss=loss , metrics=['accuracy'])"
   ]
  },
  {
   "cell_type": "markdown",
   "id": "f9b7d337",
   "metadata": {},
   "source": [
    "### 7. Training the model"
   ]
  },
  {
   "cell_type": "code",
   "execution_count": null,
   "id": "fe985b3a",
   "metadata": {
    "scrolled": true
   },
   "outputs": [],
   "source": [
    "EPOCHS = 30\n",
    "BATCH_SIZE = 16\n",
    "\n",
    "history = model.fit(X, Y, validation_split=0.2, epochs=EPOCHS, batch_size=BATCH_SIZE)"
   ]
  },
  {
   "cell_type": "markdown",
   "id": "5f02eb95",
   "metadata": {},
   "source": [
    "### 8. Model's training metrics"
   ]
  },
  {
   "cell_type": "code",
   "execution_count": null,
   "id": "0fbdc60d",
   "metadata": {},
   "outputs": [],
   "source": [
    "ax = plt.subplot(label= True)\n",
    "plt.plot(history.history[\"loss\"], label = \"loss\")\n",
    "plt.plot(history.history[\"val_loss\"], label = \"val_loss\")\n",
    "plt.legend([\"loss\", \"val_loss\"])"
   ]
  },
  {
   "cell_type": "markdown",
   "id": "9edd49b3",
   "metadata": {},
   "source": [
    "### 9. Saving the model"
   ]
  },
  {
   "cell_type": "code",
   "execution_count": null,
   "id": "d72e72e6",
   "metadata": {},
   "outputs": [],
   "source": [
    "# Saving model into .h5 file\n",
    "model.save('./models/<model_name.h5>')\n",
    "\n",
    "# Ending the MLflow instance\n",
    "mlflow.end_run()\n",
    "run = mlflow.get_run(run.info.run_id)\n",
    "print(\"run_id: {}; status: {}\".format(run.info.run_id, run.info.status))"
   ]
  },
  {
   "cell_type": "markdown",
   "id": "62073525",
   "metadata": {},
   "source": [
    "### 10. Coloring an image"
   ]
  },
  {
   "cell_type": "code",
   "execution_count": null,
   "id": "8c8f76ad",
   "metadata": {},
   "outputs": [],
   "source": [
    "# Load the model\n",
    "model = tf.keras.models.load_model('./models/<saved_model>')\n",
    "\n",
    "# Coloring the image\n",
    "color_image(model, '<path_of_image_to_be_colored>')"
   ]
  }
 ],
 "metadata": {
  "kernelspec": {
   "display_name": "Python Tensorflow",
   "language": "python",
   "name": "tensorflow"
  },
  "language_info": {
   "codemirror_mode": {
    "name": "ipython",
    "version": 3
   },
   "file_extension": ".py",
   "mimetype": "text/x-python",
   "name": "python",
   "nbconvert_exporter": "python",
   "pygments_lexer": "ipython3",
   "version": "3.9.12"
  }
 },
 "nbformat": 4,
 "nbformat_minor": 5
}
